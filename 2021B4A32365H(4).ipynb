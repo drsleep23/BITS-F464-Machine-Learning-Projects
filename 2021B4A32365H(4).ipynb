{
  "nbformat": 4,
  "nbformat_minor": 0,
  "metadata": {
    "colab": {
      "provenance": []
    },
    "kernelspec": {
      "name": "python3",
      "display_name": "Python 3"
    },
    "language_info": {
      "name": "python"
    }
  },
  "cells": [
    {
      "cell_type": "markdown",
      "source": [
        "#Imports\n"
      ],
      "metadata": {
        "id": "qihrASP7lZr9"
      }
    },
    {
      "cell_type": "code",
      "execution_count": 25,
      "metadata": {
        "id": "yEuJw__UkTJe",
        "colab": {
          "base_uri": "https://localhost:8080/"
        },
        "outputId": "2da4e82f-7648-4e50-c527-e86869f2b221"
      },
      "outputs": [
        {
          "output_type": "stream",
          "name": "stdout",
          "text": [
            "--2024-11-08 12:53:30--  https://drive.google.com/uc?export=download&id=1cS9z4jFiDdQtqN0e3j8wD1vu_XFPkZr-\n",
            "Resolving drive.google.com (drive.google.com)... 108.177.11.100, 108.177.11.138, 108.177.11.101, ...\n",
            "Connecting to drive.google.com (drive.google.com)|108.177.11.100|:443... connected.\n",
            "HTTP request sent, awaiting response... 303 See Other\n",
            "Location: https://drive.usercontent.google.com/download?id=1cS9z4jFiDdQtqN0e3j8wD1vu_XFPkZr-&export=download [following]\n",
            "--2024-11-08 12:53:30--  https://drive.usercontent.google.com/download?id=1cS9z4jFiDdQtqN0e3j8wD1vu_XFPkZr-&export=download\n",
            "Resolving drive.usercontent.google.com (drive.usercontent.google.com)... 142.251.107.132, 2607:f8b0:400c:c32::84\n",
            "Connecting to drive.usercontent.google.com (drive.usercontent.google.com)|142.251.107.132|:443... connected.\n",
            "HTTP request sent, awaiting response... 200 OK\n",
            "Length: 13336 (13K) [application/octet-stream]\n",
            "Saving to: ‘diabetes.csv’\n",
            "\n",
            "diabetes.csv        100%[===================>]  13.02K  --.-KB/s    in 0s      \n",
            "\n",
            "2024-11-08 12:53:32 (57.4 MB/s) - ‘diabetes.csv’ saved [13336/13336]\n",
            "\n"
          ]
        }
      ],
      "source": [
        "!wget -O diabetes.csv \"https://drive.google.com/uc?export=download&id=1cS9z4jFiDdQtqN0e3j8wD1vu_XFPkZr-\"\n",
        "\n",
        "import os\n",
        "import pandas as pd\n",
        "import numpy as np\n",
        "import tensorflow as tf\n",
        "import math\n",
        "import matplotlib.pyplot as plt\n",
        "import seaborn as sns\n",
        "import pickle\n",
        "from tensorflow import keras\n",
        "from tensorflow.keras import layers\n",
        "from scipy import stats\n",
        "from sklearn.pipeline import make_pipeline\n",
        "from sklearn.metrics import accuracy_score, precision_score, recall_score, f1_score, roc_auc_score, confusion_matrix, classification_report\n",
        "from sklearn.model_selection import train_test_split\n",
        "from sklearn.preprocessing import StandardScaler\n",
        "from sklearn.preprocessing import MinMaxScaler\n",
        "from sklearn.naive_bayes import GaussianNB\n",
        "from sklearn.linear_model import Perceptron\n",
        "from sklearn.model_selection import cross_val_score, KFold\n"
      ]
    },
    {
      "cell_type": "markdown",
      "source": [
        "#Data Loading and Preparation"
      ],
      "metadata": {
        "id": "IuIGOZunlcOA"
      }
    },
    {
      "cell_type": "code",
      "source": [
        "data_unedited = pd.read_csv('diabetes.csv')\n",
        "rows_columns = data_unedited.shape\n",
        "\n",
        "print(\"The number of rows and columns is: \")\n",
        "print(rows_columns)\n",
        "print(data_unedited.dtypes)\n",
        "print(data_unedited.describe())\n",
        "\n",
        "missing_values = data_unedited.isna().sum()\n",
        "print(\"\\nThe missing vaues are: \")\n",
        "print(missing_values)\n",
        "\n",
        "data_duplicates_deleted = data_unedited.drop_duplicates()\n",
        "rows_columns_1 = data_duplicates_deleted.shape\n",
        "print(\"\\nThe number of rows and columns after deletion of duplicates is: \")\n",
        "print(rows_columns_1)\n",
        "print(\"\\nThus we have no missing values or duplicates and can proceed with scaling.\")\n",
        "\n",
        "data = data_duplicates_deleted\n",
        "\n",
        "print(\"Now we see if there's a presence of a large number of zero's in any of the columns\")\n",
        "\n",
        "fig, axes = plt.subplots(2, 2, figsize=(12, 8))\n",
        "fig.suptitle(\"Feature Distributions\")\n",
        "\n",
        "sns.histplot(data['Glucose'], kde=True, ax=axes[0, 0])\n",
        "axes[0, 0].set_title('Glucose Distribution')\n",
        "\n",
        "sns.histplot(data['Insulin'], kde=True, ax=axes[0, 1])\n",
        "axes[0, 1].set_title('Insulin Distribution')\n",
        "\n",
        "sns.histplot(data['BMI'], kde=True, ax=axes[1, 0])\n",
        "axes[1, 0].set_title('BMI Distribution')\n",
        "\n",
        "sns.histplot(data['Age'], kde=True, ax=axes[1, 1])\n",
        "axes[1, 1].set_title('Age Distribution')\n",
        "\n",
        "plt.tight_layout(rect=[0, 0.03, 1, 0.95])\n",
        "plt.show()\n",
        "\n",
        "correlation_matrix = data.corr()\n",
        "print(\"\\nThe correlation matrix is: \")\n",
        "print(correlation_matrix)\n",
        "\n",
        "print(\"\\nNumerically, the number and percentage of zero's is: \")\n",
        "columns_to_check = ['Insulin', 'BMI', 'Glucose']\n",
        "for column in columns_to_check:\n",
        "    num_zeros = (data[column] == 0).sum()\n",
        "    percent_zeros = (num_zeros / len(data)) * 100\n",
        "    print(f\"\\n{column}:\")\n",
        "    print(f\"Number of zeros: {num_zeros}\")\n",
        "    print(f\"Percentage of zeros: {percent_zeros:.2f}%\\n\")\n",
        "\n",
        "print(\"\\nSince we detect the presence of a large no of zero's, we replace them with the median for each column\")\n",
        "\n",
        "data['Insulin'] = data['Insulin'].replace(0, data['Insulin'][data['Insulin'] != 0].median())\n",
        "data['BMI'] = data['BMI'].replace(0, data['BMI'][data['BMI'] != 0].median())\n",
        "data['Glucose'] = data['Glucose'].replace(0, data['Glucose'][data['Glucose'] != 0].median())\n",
        "\n",
        "print(data)\n",
        "data.describe()"
      ],
      "metadata": {
        "colab": {
          "base_uri": "https://localhost:8080/",
          "height": 1000
        },
        "id": "M9l9Fp4Ylh08",
        "outputId": "9ea1cc1c-2959-4ad2-bc7a-e806374ff091"
      },
      "execution_count": 26,
      "outputs": [
        {
          "output_type": "stream",
          "name": "stdout",
          "text": [
            "The number of rows and columns is: \n",
            "(768, 5)\n",
            "Glucose      int64\n",
            "Insulin      int64\n",
            "BMI        float64\n",
            "Age          int64\n",
            "Outcome      int64\n",
            "dtype: object\n",
            "          Glucose     Insulin         BMI         Age     Outcome\n",
            "count  768.000000  768.000000  768.000000  768.000000  768.000000\n",
            "mean   120.894531   79.799479   31.992578   33.240885    0.348958\n",
            "std     31.972618  115.244002    7.884160   11.760232    0.476951\n",
            "min      0.000000    0.000000    0.000000   21.000000    0.000000\n",
            "25%     99.000000    0.000000   27.300000   24.000000    0.000000\n",
            "50%    117.000000   30.500000   32.000000   29.000000    0.000000\n",
            "75%    140.250000  127.250000   36.600000   41.000000    1.000000\n",
            "max    199.000000  846.000000   67.100000   81.000000    1.000000\n",
            "\n",
            "The missing vaues are: \n",
            "Glucose    0\n",
            "Insulin    0\n",
            "BMI        0\n",
            "Age        0\n",
            "Outcome    0\n",
            "dtype: int64\n",
            "\n",
            "The number of rows and columns after deletion of duplicates is: \n",
            "(768, 5)\n",
            "\n",
            "Thus we have no missing values or duplicates and can proceed with scaling.\n",
            "Now we see if there's a presence of a large number of zero's in any of the columns\n"
          ]
        },
        {
          "output_type": "display_data",
          "data": {
            "text/plain": [
              "<Figure size 1200x800 with 4 Axes>"
            ],
            "image/png": "[encoded data removed]"
          },
          "metadata": {}
        },
        {
          "output_type": "stream",
          "name": "stdout",
          "text": [
            "\n",
            "The correlation matrix is: \n",
            "          Glucose   Insulin       BMI       Age   Outcome\n",
            "Glucose  1.000000  0.331357  0.221071  0.263514  0.466581\n",
            "Insulin  0.331357  1.000000  0.197859 -0.042163  0.130548\n",
            "BMI      0.221071  0.197859  1.000000  0.036242  0.292695\n",
            "Age      0.263514 -0.042163  0.036242  1.000000  0.238356\n",
            "Outcome  0.466581  0.130548  0.292695  0.238356  1.000000\n",
            "\n",
            "Numerically, the number and percentage of zero's is: \n",
            "\n",
            "Insulin:\n",
            "Number of zeros: 374\n",
            "Percentage of zeros: 48.70%\n",
            "\n",
            "\n",
            "BMI:\n",
            "Number of zeros: 11\n",
            "Percentage of zeros: 1.43%\n",
            "\n",
            "\n",
            "Glucose:\n",
            "Number of zeros: 5\n",
            "Percentage of zeros: 0.65%\n",
            "\n",
            "\n",
            "Since we detect the presence of a large no of zero's, we replace them with the median for each column\n",
            "     Glucose  Insulin   BMI  Age  Outcome\n",
            "0        148      125  33.6   50        1\n",
            "1         85      125  26.6   31        0\n",
            "2        183      125  23.3   32        1\n",
            "3         89       94  28.1   21        0\n",
            "4        137      168  43.1   33        1\n",
            "..       ...      ...   ...  ...      ...\n",
            "763      101      180  32.9   63        0\n",
            "764      122      125  36.8   27        0\n",
            "765      121      112  26.2   30        0\n",
            "766      126      125  30.1   47        1\n",
            "767       93      125  30.4   23        0\n",
            "\n",
            "[768 rows x 5 columns]\n"
          ]
        },
        {
          "output_type": "execute_result",
          "data": {
            "text/plain": [
              "          Glucose     Insulin         BMI         Age     Outcome\n",
              "count  768.000000  768.000000  768.000000  768.000000  768.000000\n",
              "mean   121.656250  140.671875   32.455208   33.240885    0.348958\n",
              "std     30.438286   86.383060    6.875177   11.760232    0.476951\n",
              "min     44.000000   14.000000   18.200000   21.000000    0.000000\n",
              "25%     99.750000  121.500000   27.500000   24.000000    0.000000\n",
              "50%    117.000000  125.000000   32.300000   29.000000    0.000000\n",
              "75%    140.250000  127.250000   36.600000   41.000000    1.000000\n",
              "max    199.000000  846.000000   67.100000   81.000000    1.000000"
            ],
            "text/html": [
              "\n",
              "  <div id=\"df-ab99fa46-6fa3-4b8a-af3e-7fe3dd084247\" class=\"colab-df-container\">\n",
              "    <div>\n",
              "<style scoped>\n",
              "    .dataframe tbody tr th:only-of-type {\n",
              "        vertical-align: middle;\n",
              "    }\n",
              "\n",
              "    .dataframe tbody tr th {\n",
              "        vertical-align: top;\n",
              "    }\n",
              "\n",
              "    .dataframe thead th {\n",
              "        text-align: right;\n",
              "    }\n",
              "</style>\n",
              "<table border=\"1\" class=\"dataframe\">\n",
              "  <thead>\n",
              "    <tr style=\"text-align: right;\">\n",
              "      <th></th>\n",
              "      <th>Glucose</th>\n",
              "      <th>Insulin</th>\n",
              "      <th>BMI</th>\n",
              "      <th>Age</th>\n",
              "      <th>Outcome</th>\n",
              "    </tr>\n",
              "  </thead>\n",
              "  <tbody>\n",
              "    <tr>\n",
              "      <th>count</th>\n",
              "      <td>768.000000</td>\n",
              "      <td>768.000000</td>\n",
              "      <td>768.000000</td>\n",
              "      <td>768.000000</td>\n",
              "      <td>768.000000</td>\n",
              "    </tr>\n",
              "    <tr>\n",
              "      <th>mean</th>\n",
              "      <td>121.656250</td>\n",
              "      <td>140.671875</td>\n",
              "      <td>32.455208</td>\n",
              "      <td>33.240885</td>\n",
              "      <td>0.348958</td>\n",
              "    </tr>\n",
              "    <tr>\n",
              "      <th>std</th>\n",
              "      <td>30.438286</td>\n",
              "      <td>86.383060</td>\n",
              "      <td>6.875177</td>\n",
              "      <td>11.760232</td>\n",
              "      <td>0.476951</td>\n",
              "    </tr>\n",
              "    <tr>\n",
              "      <th>min</th>\n",
              "      <td>44.000000</td>\n",
              "      <td>14.000000</td>\n",
              "      <td>18.200000</td>\n",
              "      <td>21.000000</td>\n",
              "      <td>0.000000</td>\n",
              "    </tr>\n",
              "    <tr>\n",
              "      <th>25%</th>\n",
              "      <td>99.750000</td>\n",
              "      <td>121.500000</td>\n",
              "      <td>27.500000</td>\n",
              "      <td>24.000000</td>\n",
              "      <td>0.000000</td>\n",
              "    </tr>\n",
              "    <tr>\n",
              "      <th>50%</th>\n",
              "      <td>117.000000</td>\n",
              "      <td>125.000000</td>\n",
              "      <td>32.300000</td>\n",
              "      <td>29.000000</td>\n",
              "      <td>0.000000</td>\n",
              "    </tr>\n",
              "    <tr>\n",
              "      <th>75%</th>\n",
              "      <td>140.250000</td>\n",
              "      <td>127.250000</td>\n",
              "      <td>36.600000</td>\n",
              "      <td>41.000000</td>\n",
              "      <td>1.000000</td>\n",
              "    </tr>\n",
              "    <tr>\n",
              "      <th>max</th>\n",
              "      <td>199.000000</td>\n",
              "      <td>846.000000</td>\n",
              "      <td>67.100000</td>\n",
              "      <td>81.000000</td>\n",
              "      <td>1.000000</td>\n",
              "    </tr>\n",
              "  </tbody>\n",
              "</table>\n",
              "</div>\n",
              "    <div class=\"colab-df-buttons\">\n",
              "\n",
              "  <div class=\"colab-df-container\">\n",
              "    <button class=\"colab-df-convert\" onclick=\"convertToInteractive('df-ab99fa46-6fa3-4b8a-af3e-7fe3dd084247')\"\n",
              "            title=\"Convert this dataframe to an interactive table.\"\n",
              "            style=\"display:none;\">\n",
              "\n",
              "  <svg xmlns=\"http://www.w3.org/2000/svg\" height=\"24px\" viewBox=\"0 -960 960 960\">\n",
              "    <path d=\"M120-120v-720h720v720H120Zm60-500h600v-160H180v160Zm220 220h160v-160H400v160Zm0 220h160v-160H400v160ZM180-400h160v-160H180v160Zm440 0h160v-160H620v160ZM180-180h160v-160H180v160Zm440 0h160v-160H620v160Z\"/>\n",
              "  </svg>\n",
              "    </button>\n",
              "\n",
              "  <style>\n",
              "    .colab-df-container {\n",
              "      display:flex;\n",
              "      gap: 12px;\n",
              "    }\n",
              "\n",
              "    .colab-df-convert {\n",
              "      background-color: #E8F0FE;\n",
              "      border: none;\n",
              "      border-radius: 50%;\n",
              "      cursor: pointer;\n",
              "      display: none;\n",
              "      fill: #1967D2;\n",
              "      height: 32px;\n",
              "      padding: 0 0 0 0;\n",
              "      width: 32px;\n",
              "    }\n",
              "\n",
              "    .colab-df-convert:hover {\n",
              "      background-color: #E2EBFA;\n",
              "      box-shadow: 0px 1px 2px rgba(60, 64, 67, 0.3), 0px 1px 3px 1px rgba(60, 64, 67, 0.15);\n",
              "      fill: #174EA6;\n",
              "    }\n",
              "\n",
              "    .colab-df-buttons div {\n",
              "      margin-bottom: 4px;\n",
              "    }\n",
              "\n",
              "    [theme=dark] .colab-df-convert {\n",
              "      background-color: #3B4455;\n",
              "      fill: #D2E3FC;\n",
              "    }\n",
              "\n",
              "    [theme=dark] .colab-df-convert:hover {\n",
              "      background-color: #434B5C;\n",
              "      box-shadow: 0px 1px 3px 1px rgba(0, 0, 0, 0.15);\n",
              "      filter: drop-shadow(0px 1px 2px rgba(0, 0, 0, 0.3));\n",
              "      fill: #FFFFFF;\n",
              "    }\n",
              "  </style>\n",
              "\n",
              "    <script>\n",
              "      const buttonEl =\n",
              "        document.querySelector('#df-ab99fa46-6fa3-4b8a-af3e-7fe3dd084247 button.colab-df-convert');\n",
              "      buttonEl.style.display =\n",
              "        google.colab.kernel.accessAllowed ? 'block' : 'none';\n",
              "\n",
              "      async function convertToInteractive(key) {\n",
              "        const element = document.querySelector('#df-ab99fa46-6fa3-4b8a-af3e-7fe3dd084247');\n",
              "        const dataTable =\n",
              "          await google.colab.kernel.invokeFunction('convertToInteractive',\n",
              "                                                    [key], {});\n",
              "        if (!dataTable) return;\n",
              "\n",
              "        const docLinkHtml = 'Like what you see? Visit the ' +\n",
              "          '<a target=\"_blank\" href=https://colab.research.google.com/notebooks/data_table.ipynb>data table notebook</a>'\n",
              "          + ' to learn more about interactive tables.';\n",
              "        element.innerHTML = '';\n",
              "        dataTable['output_type'] = 'display_data';\n",
              "        await google.colab.output.renderOutput(dataTable, element);\n",
              "        const docLink = document.createElement('div');\n",
              "        docLink.innerHTML = docLinkHtml;\n",
              "        element.appendChild(docLink);\n",
              "      }\n",
              "    </script>\n",
              "  </div>\n",
              "\n",
              "\n",
              "<div id=\"df-4cefc4a8-f53d-4fa3-95e2-f7c10c2899c3\">\n",
              "  <button class=\"colab-df-quickchart\" onclick=\"quickchart('df-4cefc4a8-f53d-4fa3-95e2-f7c10c2899c3')\"\n",
              "            title=\"Suggest charts\"\n",
              "            style=\"display:none;\">\n",
              "\n",
              "<svg xmlns=\"http://www.w3.org/2000/svg\" height=\"24px\"viewBox=\"0 0 24 24\"\n",
              "     width=\"24px\">\n",
              "    <g>\n",
              "        <path d=\"M19 3H5c-1.1 0-2 .9-2 2v14c0 1.1.9 2 2 2h14c1.1 0 2-.9 2-2V5c0-1.1-.9-2-2-2zM9 17H7v-7h2v7zm4 0h-2V7h2v10zm4 0h-2v-4h2v4z\"/>\n",
              "    </g>\n",
              "</svg>\n",
              "  </button>\n",
              "\n",
              "<style>\n",
              "  .colab-df-quickchart {\n",
              "      --bg-color: #E8F0FE;\n",
              "      --fill-color: #1967D2;\n",
              "      --hover-bg-color: #E2EBFA;\n",
              "      --hover-fill-color: #174EA6;\n",
              "      --disabled-fill-color: #AAA;\n",
              "      --disabled-bg-color: #DDD;\n",
              "  }\n",
              "\n",
              "  [theme=dark] .colab-df-quickchart {\n",
              "      --bg-color: #3B4455;\n",
              "      --fill-color: #D2E3FC;\n",
              "      --hover-bg-color: #434B5C;\n",
              "      --hover-fill-color: #FFFFFF;\n",
              "      --disabled-bg-color: #3B4455;\n",
              "      --disabled-fill-color: #666;\n",
              "  }\n",
              "\n",
              "  .colab-df-quickchart {\n",
              "    background-color: var(--bg-color);\n",
              "    border: none;\n",
              "    border-radius: 50%;\n",
              "    cursor: pointer;\n",
              "    display: none;\n",
              "    fill: var(--fill-color);\n",
              "    height: 32px;\n",
              "    padding: 0;\n",
              "    width: 32px;\n",
              "  }\n",
              "\n",
              "  .colab-df-quickchart:hover {\n",
              "    background-color: var(--hover-bg-color);\n",
              "    box-shadow: 0 1px 2px rgba(60, 64, 67, 0.3), 0 1px 3px 1px rgba(60, 64, 67, 0.15);\n",
              "    fill: var(--button-hover-fill-color);\n",
              "  }\n",
              "\n",
              "  .colab-df-quickchart-complete:disabled,\n",
              "  .colab-df-quickchart-complete:disabled:hover {\n",
              "    background-color: var(--disabled-bg-color);\n",
              "    fill: var(--disabled-fill-color);\n",
              "    box-shadow: none;\n",
              "  }\n",
              "\n",
              "  .colab-df-spinner {\n",
              "    border: 2px solid var(--fill-color);\n",
              "    border-color: transparent;\n",
              "    border-bottom-color: var(--fill-color);\n",
              "    animation:\n",
              "      spin 1s steps(1) infinite;\n",
              "  }\n",
              "\n",
              "  @keyframes spin {\n",
              "    0% {\n",
              "      border-color: transparent;\n",
              "      border-bottom-color: var(--fill-color);\n",
              "      border-left-color: var(--fill-color);\n",
              "    }\n",
              "    20% {\n",
              "      border-color: transparent;\n",
              "      border-left-color: var(--fill-color);\n",
              "      border-top-color: var(--fill-color);\n",
              "    }\n",
              "    30% {\n",
              "      border-color: transparent;\n",
              "      border-left-color: var(--fill-color);\n",
              "      border-top-color: var(--fill-color);\n",
              "      border-right-color: var(--fill-color);\n",
              "    }\n",
              "    40% {\n",
              "      border-color: transparent;\n",
              "      border-right-color: var(--fill-color);\n",
              "      border-top-color: var(--fill-color);\n",
              "    }\n",
              "    60% {\n",
              "      border-color: transparent;\n",
              "      border-right-color: var(--fill-color);\n",
              "    }\n",
              "    80% {\n",
              "      border-color: transparent;\n",
              "      border-right-color: var(--fill-color);\n",
              "      border-bottom-color: var(--fill-color);\n",
              "    }\n",
              "    90% {\n",
              "      border-color: transparent;\n",
              "      border-bottom-color: var(--fill-color);\n",
              "    }\n",
              "  }\n",
              "</style>\n",
              "\n",
              "  <script>\n",
              "    async function quickchart(key) {\n",
              "      const quickchartButtonEl =\n",
              "        document.querySelector('#' + key + ' button');\n",
              "      quickchartButtonEl.disabled = true;  // To prevent multiple clicks.\n",
              "      quickchartButtonEl.classList.add('colab-df-spinner');\n",
              "      try {\n",
              "        const charts = await google.colab.kernel.invokeFunction(\n",
              "            'suggestCharts', [key], {});\n",
              "      } catch (error) {\n",
              "        console.error('Error during call to suggestCharts:', error);\n",
              "      }\n",
              "      quickchartButtonEl.classList.remove('colab-df-spinner');\n",
              "      quickchartButtonEl.classList.add('colab-df-quickchart-complete');\n",
              "    }\n",
              "    (() => {\n",
              "      let quickchartButtonEl =\n",
              "        document.querySelector('#df-4cefc4a8-f53d-4fa3-95e2-f7c10c2899c3 button');\n",
              "      quickchartButtonEl.style.display =\n",
              "        google.colab.kernel.accessAllowed ? 'block' : 'none';\n",
              "    })();\n",
              "  </script>\n",
              "</div>\n",
              "\n",
              "    </div>\n",
              "  </div>\n"
            ],
            "application/vnd.google.colaboratory.intrinsic+json": {
              "type": "dataframe",
              "summary": "{\n  \"name\": \"data\",\n  \"rows\": 8,\n  \"fields\": [\n    {\n      \"column\": \"Glucose\",\n      \"properties\": {\n        \"dtype\": \"number\",\n        \"std\": 239.51168557183297,\n        \"min\": 30.43828582241517,\n        \"max\": 768.0,\n        \"num_unique_values\": 8,\n        \"samples\": [\n          121.65625,\n          117.0,\n          768.0\n        ],\n        \"semantic_type\": \"\",\n        \"description\": \"\"\n      }\n    },\n    {\n      \"column\": \"Insulin\",\n      \"properties\": {\n        \"dtype\": \"number\",\n        \"std\": 329.2024978866974,\n        \"min\": 14.0,\n        \"max\": 846.0,\n        \"num_unique_values\": 8,\n        \"samples\": [\n          140.671875,\n          125.0,\n          768.0\n        ],\n        \"semantic_type\": \"\",\n        \"description\": \"\"\n      }\n    },\n    {\n      \"column\": \"BMI\",\n      \"properties\": {\n        \"dtype\": \"number\",\n        \"std\": 260.9391611523229,\n        \"min\": 6.875176818080996,\n        \"max\": 768.0,\n        \"num_unique_values\": 8,\n        \"samples\": [\n          32.45520833333333,\n          32.3,\n          768.0\n        ],\n        \"semantic_type\": \"\",\n        \"description\": \"\"\n      }\n    },\n    {\n      \"column\": \"Age\",\n      \"properties\": {\n        \"dtype\": \"number\",\n        \"std\": 260.1941178528413,\n        \"min\": 11.76023154067868,\n        \"max\": 768.0,\n        \"num_unique_values\": 8,\n        \"samples\": [\n          33.240885416666664,\n          29.0,\n          768.0\n        ],\n        \"semantic_type\": \"\",\n        \"description\": \"\"\n      }\n    },\n    {\n      \"column\": \"Outcome\",\n      \"properties\": {\n        \"dtype\": \"number\",\n        \"std\": 271.3865920388932,\n        \"min\": 0.0,\n        \"max\": 768.0,\n        \"num_unique_values\": 5,\n        \"samples\": [\n          0.3489583333333333,\n          1.0,\n          0.4769513772427971\n        ],\n        \"semantic_type\": \"\",\n        \"description\": \"\"\n      }\n    }\n  ]\n}"
            }
          },
          "metadata": {},
          "execution_count": 26
        }
      ]
    },
    {
      "cell_type": "markdown",
      "source": [
        "#Train, Test, Split and Naive Bayes Model"
      ],
      "metadata": {
        "id": "3f0qlhFXn0dY"
      }
    },
    {
      "cell_type": "code",
      "source": [
        "X = data.drop('Outcome',axis=1)\n",
        "column_names = X.columns.tolist()\n",
        "y = data['Outcome']\n",
        "\n",
        "std_scaler = StandardScaler()\n",
        "min_max_scaler = MinMaxScaler()\n",
        "X_scaled = std_scaler.fit_transform(X)\n",
        "X_df = pd.DataFrame(X_scaled, columns=column_names)\n",
        "\n",
        "X_train, X_test, y_train, y_test = train_test_split(X_df, y, train_size=0.8, random_state=69)\n",
        "\n",
        "naive_bayes_model = GaussianNB()\n",
        "naive_bayes_model.fit(X_train, y_train)\n",
        "\n",
        "y_pred_nb = naive_bayes_model.predict(X_test)\n",
        "\n",
        "accuracy_nb = accuracy_score(y_test, y_pred_nb)\n",
        "print(f\"Accuracy: {accuracy_nb}\")\n",
        "\n",
        "precision_nb = precision_score(y_test, y_pred_nb, average='binary')\n",
        "print(f\"Precision: {precision_nb}\")\n",
        "\n",
        "recall_nb = recall_score(y_test, y_pred_nb, average='binary')\n",
        "print(f\"Recall: {recall_nb}\")\n",
        "\n",
        "f1_nb = f1_score(y_test, y_pred_nb, average='binary')\n",
        "print(f\"F1: {f1_nb}\")\n",
        "\n",
        "#K-Fold Cross Validation\n",
        "k = 5\n",
        "scores_nb = cross_val_score(naive_bayes_model, X, y, cv=k, scoring='accuracy')\n",
        "print(\"\\nCross-validation scores for each fold:\", scores_nb)\n",
        "mean_scores_nb =  np.mean(scores_nb)\n",
        "std_dev_scores_nb = np.std(scores_nb)\n",
        "print(\"Mean accuracy:\", np.mean(scores_nb))\n",
        "print(\"Standard deviation of accuracy:\", np.std(scores_nb))\n",
        "\n",
        "#The model evaluation parameters aren't affected by scaling because\n",
        "#Gaussian Naive Bayes (GNB) makes predictions based on the assumption that each\n",
        "#feature follows a Gaussian (normal) distribution. It calculates probabilities\n",
        "#based on the mean and variance of each feature and scaling transforms all\n",
        "#features linearly without changing their underlying distributions."
      ],
      "metadata": {
        "colab": {
          "base_uri": "https://localhost:8080/"
        },
        "id": "haB219oLoCpA",
        "outputId": "e564d8be-a457-44a8-827a-b5d0464a0521"
      },
      "execution_count": 27,
      "outputs": [
        {
          "output_type": "stream",
          "name": "stdout",
          "text": [
            "Accuracy: 0.7727272727272727\n",
            "Precision: 0.717391304347826\n",
            "Recall: 0.6\n",
            "F1: 0.6534653465346535\n",
            "\n",
            "Cross-validation scores for each fold: [0.76623377 0.72077922 0.75974026 0.78431373 0.77124183]\n",
            "Mean accuracy: 0.7604617604617604\n",
            "Standard deviation of accuracy: 0.02141806109784772\n"
          ]
        }
      ]
    },
    {
      "cell_type": "markdown",
      "source": [
        "#Perceptron Model (library implementation)"
      ],
      "metadata": {
        "id": "w57oO51fOEoh"
      }
    },
    {
      "cell_type": "code",
      "source": [
        "perceptron_model = Perceptron(max_iter=5000, tol=1e-3, random_state=23)\n",
        "perceptron_model.fit(X_train,y_train)\n",
        "y_pred_perceptron = perceptron_model.predict(X_test)\n",
        "\n",
        "accuracy_p = accuracy_score(y_test, y_pred_perceptron)\n",
        "print(f\"Accuracy: {accuracy_p}\")\n",
        "\n",
        "precision_p = precision_score(y_test, y_pred_perceptron, average='binary')\n",
        "print(f\"Precision: {precision_p}\")\n",
        "\n",
        "recall_p = recall_score(y_test, y_pred_perceptron, average='binary')\n",
        "print(f\"Recall: {recall_p}\")\n",
        "\n",
        "f1_p = f1_score(y_test, y_pred_perceptron, average='binary')\n",
        "print(f\"F1: {f1_p}\")\n",
        "\n",
        "#K-Fold Cross Validation\n",
        "k = 5\n",
        "scores_p = cross_val_score(perceptron_model, X, y, cv=k, scoring='accuracy')\n",
        "print(\"\\nCross-validation scores for each fold:\", scores_p)\n",
        "mean_scores_p =  np.mean(scores_p)\n",
        "std_dev_scores_p = np.std(scores_p)\n",
        "print(\"Mean accuracy:\", np.mean(scores_p))\n",
        "print(\"Standard deviation of accuracy:\", np.std(scores_p))"
      ],
      "metadata": {
        "colab": {
          "base_uri": "https://localhost:8080/"
        },
        "id": "4KQYR8c9OG6F",
        "outputId": "adb2228b-1543-44a3-e36d-b55f00800633"
      },
      "execution_count": 28,
      "outputs": [
        {
          "output_type": "stream",
          "name": "stdout",
          "text": [
            "Accuracy: 0.7467532467532467\n",
            "Precision: 0.6379310344827587\n",
            "Recall: 0.6727272727272727\n",
            "F1: 0.6548672566371682\n",
            "\n",
            "Cross-validation scores for each fold: [0.65584416 0.64935065 0.50649351 0.65359477 0.66666667]\n",
            "Mean accuracy: 0.6263899499193617\n",
            "Standard deviation of accuracy: 0.060219959027441206\n"
          ]
        }
      ]
    },
    {
      "cell_type": "markdown",
      "source": [
        "#Perceptron Model (Custom Implementation)"
      ],
      "metadata": {
        "id": "wkJNmUhU5vPE"
      }
    },
    {
      "cell_type": "code",
      "source": [
        "class Custom_Perceptron:\n",
        "  def __init__(self, learning_rate=0.01, epochs=1000):\n",
        "    self.learning_rate = learning_rate\n",
        "    self.epochs = epochs\n",
        "    self.weights = None\n",
        "    self.bias = None\n",
        "\n",
        "  def fit(self, X, y):\n",
        "    n_samples, n_features = X.shape\n",
        "    # Initialize weights and bias\n",
        "    self.weights = np.zeros(n_features)\n",
        "    self.bias = 0\n",
        "\n",
        "    # Gradient descent for the specified number of epochs\n",
        "    for _ in range(self.epochs):\n",
        "        for idx, x_i in enumerate(X):\n",
        "            linear_output = np.dot(x_i, self.weights) + self.bias\n",
        "            y_predicted = self._step_function(linear_output)\n",
        "\n",
        "            # Perceptron update rule\n",
        "            update = self.learning_rate * (y[idx] - y_predicted)\n",
        "            self.weights += update * x_i\n",
        "            self.bias += update\n",
        "\n",
        "  def predict(self, X):\n",
        "    linear_output = np.dot(X, self.weights) + self.bias\n",
        "    y_predicted = self._step_function(linear_output)\n",
        "    return y_predicted\n",
        "\n",
        "  def _step_function(self, x):\n",
        "    return np.where(x >= 0, 1, 0)"
      ],
      "metadata": {
        "id": "u4CidLoi5yhI"
      },
      "execution_count": 29,
      "outputs": []
    },
    {
      "cell_type": "code",
      "source": [
        "custom_perceptron_model = Custom_Perceptron()\n",
        "custom_perceptron_model.fit(X_train.values,y_train.values)\n",
        "y_pred_custom_perceptron = custom_perceptron_model.predict(X_test.values)\n",
        "\n",
        "accuracy_cp = accuracy_score(y_test, y_pred_custom_perceptron)\n",
        "print(f\"Accuracy: {accuracy_cp}\")\n",
        "\n",
        "precision_cp = precision_score(y_test, y_pred_custom_perceptron, average='binary')\n",
        "print(f\"Precision: {precision_cp}\")\n",
        "\n",
        "recall_cp = recall_score(y_test, y_pred_custom_perceptron, average='binary')\n",
        "print(f\"Recall: {recall_cp}\")\n",
        "\n",
        "f1_cp = f1_score(y_test, y_pred_custom_perceptron, average='binary')\n",
        "print(f\"F1: {f1_cp}\")"
      ],
      "metadata": {
        "colab": {
          "base_uri": "https://localhost:8080/"
        },
        "id": "I8HFHa1hDeo_",
        "outputId": "9a191048-985c-4ce6-a98d-ef0a6ad0c64a"
      },
      "execution_count": 30,
      "outputs": [
        {
          "output_type": "stream",
          "name": "stdout",
          "text": [
            "Accuracy: 0.7467532467532467\n",
            "Precision: 0.6904761904761905\n",
            "Recall: 0.5272727272727272\n",
            "F1: 0.5979381443298969\n"
          ]
        }
      ]
    },
    {
      "cell_type": "code",
      "source": [
        "kf = KFold(n_splits=5, shuffle=True, random_state=42)\n",
        "scores_cp = []\n",
        "\n",
        "for train_index, test_index in kf.split(X):\n",
        "    X_train, X_test = X.values[train_index], X.values[test_index]\n",
        "    y_train, y_test = y.values[train_index], y.values[test_index]\n",
        "\n",
        "    # Initialize and train the custom perceptron model on the training set\n",
        "    custom_perceptron_model = Custom_Perceptron(learning_rate=0.01, epochs=1000)\n",
        "    custom_perceptron_model.fit(X_train, y_train)\n",
        "\n",
        "    # Predict on the test set\n",
        "    y_pred = custom_perceptron_model.predict(X_test)\n",
        "\n",
        "    # Calculate accuracy for this fold and add it to the list\n",
        "    fold_accuracy = accuracy_score(y_test, y_pred)\n",
        "    scores_cp.append(fold_accuracy)\n",
        "\n",
        "print(f\"\\nCross-validation score for each fold: {scores_cp}\")\n",
        "mean_scores_cp = np.mean(scores_cp)\n",
        "std_dev_scores_cp = np.std(scores_cp)\n",
        "print(f\"Mean accuracy: {mean_scores_cp:.2f}\")\n",
        "print(f\"Standard Deviation of accuracy: {std_dev_scores_cp:.2f}\")"
      ],
      "metadata": {
        "colab": {
          "base_uri": "https://localhost:8080/"
        },
        "id": "hd9m-zU3EtjG",
        "outputId": "69a7b9de-b1e5-4864-ed9b-6e8eba44384a"
      },
      "execution_count": 31,
      "outputs": [
        {
          "output_type": "stream",
          "name": "stdout",
          "text": [
            "\n",
            "Cross-validation score for each fold: [0.6428571428571429, 0.6493506493506493, 0.4025974025974026, 0.7124183006535948, 0.5947712418300654]\n",
            "Mean accuracy: 0.60\n",
            "Standard Deviation of accuracy: 0.11\n"
          ]
        }
      ]
    },
    {
      "cell_type": "markdown",
      "source": [
        "#Comparing the 3 Models"
      ],
      "metadata": {
        "id": "dd0oV2GzUNXF"
      }
    },
    {
      "cell_type": "markdown",
      "source": [
        "##1)Accuracy and Recall"
      ],
      "metadata": {
        "id": "NNpjz7Y6Xi2e"
      }
    },
    {
      "cell_type": "code",
      "source": [
        "comparision = {\n",
        "    'Naive Bayes': [accuracy_nb, precision_nb, recall_nb, f1_nb],\n",
        "    'Perceptron (Lib)': [accuracy_p, precision_p, recall_p, f1_p],\n",
        "    'Perceptron (Custom)': [accuracy_cp, precision_cp, recall_cp, f1_cp]\n",
        "}\n",
        "custom_indices = ['Acuracy', 'Precision', 'Recall', 'F1 Score']\n",
        "comparison_table = pd.DataFrame(comparision, index = custom_indices)\n",
        "print(comparison_table)"
      ],
      "metadata": {
        "colab": {
          "base_uri": "https://localhost:8080/"
        },
        "id": "UWqwHzWbUM1_",
        "outputId": "eaf71be8-3ccb-4755-86c4-2e89980fec8d"
      },
      "execution_count": 32,
      "outputs": [
        {
          "output_type": "stream",
          "name": "stdout",
          "text": [
            "           Naive Bayes  Perceptron (Lib)  Perceptron (Custom)\n",
            "Acuracy       0.772727          0.746753             0.746753\n",
            "Precision     0.717391          0.637931             0.690476\n",
            "Recall        0.600000          0.672727             0.527273\n",
            "F1 Score      0.653465          0.654867             0.597938\n"
          ]
        }
      ]
    },
    {
      "cell_type": "markdown",
      "source": [
        "##2) Based on K-Fold Cross Validation"
      ],
      "metadata": {
        "id": "MdRVq8KaXnJ_"
      }
    },
    {
      "cell_type": "code",
      "source": [
        "comparision_1 = {\n",
        "    'Naive Bayes K-Fold': [mean_scores_nb, std_dev_scores_nb],\n",
        "    'Perceptron K-Fold(Lib)': [mean_scores_p, std_dev_scores_p],\n",
        "    'Perceptron K-Fold(Cus)' : [mean_scores_cp, std_dev_scores_cp]\n",
        "}\n",
        "own_indices = ['Mean Accuracy', 'Standard Deviation of Accuracy']\n",
        "\n",
        "comparison_table_1 = pd.DataFrame(comparision_1, index = own_indices)\n",
        "print(comparison_table_1)"
      ],
      "metadata": {
        "colab": {
          "base_uri": "https://localhost:8080/"
        },
        "id": "QBQX2ObXXsqS",
        "outputId": "d878c8e6-fdf6-4280-f465-6b4925ce07ad"
      },
      "execution_count": 33,
      "outputs": [
        {
          "output_type": "stream",
          "name": "stdout",
          "text": [
            "                                Naive Bayes K-Fold  Perceptron K-Fold(Lib)  \\\n",
            "Mean Accuracy                             0.760462                 0.62639   \n",
            "Standard Deviation of Accuracy            0.021418                 0.06022   \n",
            "\n",
            "                                Perceptron K-Fold(Cus)  \n",
            "Mean Accuracy                                 0.600399  \n",
            "Standard Deviation of Accuracy                0.105740  \n"
          ]
        }
      ]
    },
    {
      "cell_type": "markdown",
      "source": [
        "##Analysis and Conclusion based on Metrics\n",
        "\n",
        "###Analysis\n",
        "**Accuracy**:\n",
        "Naive Bayes has the highest accuracy (0.7727), suggesting it performs better at correctly classifying the overall samples than the Perceptron models.\n",
        "Both Perceptron (Lib) and Perceptron (Custom) have the same accuracy (0.7467), slightly lower than Naive Bayes. This indicates that they both produce similar results, but may not generalize as well on this dataset.\n",
        "\n",
        "**Precision**:\n",
        "Naive Bayes has the highest precision (0.7174). This means that when it predicts the positive class, it's the most likely to be correct among the three models, which is valuable when false positives are costly.\n",
        "\n",
        "**Recall**: Library Perceptron has the highest recall, which means it does better at catching true positives, followed by Naive Bayes. The Custom Perceptron has the lowest recall.\n",
        "\n",
        "**F1 Score**: The Library Perceptron has the highest F1 score, indicating a balanced performance of precision and recall, while the Custom Perceptron has the lowest.\n",
        "\n",
        "###Conclusion\n",
        "**Naive Bayes**: Best overall precision and accuracy, suggesting it's highly effective in correctly identifying true positives while minimizing false positives.\n",
        "\n",
        "**Library Perceptron**: Highest recall and F1 score, making it better for applications where identifying positive cases is a priority.\n",
        "\n",
        "**Custom Perceptron**: Good precision but lower recall and F1 score, potentially useful for minimizing false positives but needing improvement to boost recall.\n",
        "\n",
        "In general, the Naive Bayes model is the most reliable and effective choice for this dataset."
      ],
      "metadata": {
        "id": "7-aOY4X5ZWpS"
      }
    },
    {
      "cell_type": "markdown",
      "source": [
        "##Analysis and Conclusion based on K-Fold Cross Validation\n",
        "\n",
        "###Analysis\n",
        "**Naive Bayes K-Fold**:\n",
        "* Mean Accuracy: 0.7605\n",
        "* Standard Deviation: 0.0214\n",
        "\n",
        "Naive Bayes consistently performs well across different folds. This indicates a stable model that’s less sensitive to changes in the training data.\n",
        "\n",
        "**Perceptron (Library) K-Fold**:\n",
        "* Mean Accuracy: 0.6264\n",
        "* Standard deviation: 0.0602   \n",
        "\n",
        "The moderate standard deviation suggests that the library Perceptron’s accuracy fluctuates more depending on the data, but it's relatively more stable than the custom implementation.\n",
        "\n",
        "**Perceptron (Custom) K-Fold**:\n",
        "* Mean Accuracy: 0.6004\n",
        "* Standard Deviation: 0.1057\n",
        "\n",
        "The high variability suggests that the custom Perceptron is very sensitive to the specific training data in each fold. This high variance may indicate overfitting in certain folds or instability due to its simplistic design.\n",
        "\n",
        "###Conclusion\n",
        "Naive Bayes is the best-performing and most stable model across the k-fold validation. It’s a good choice if consistent, high accuracy is a priority.\n",
        "\n",
        "Library Perceptron has moderate performance with some variability, making it a decent alternative, especially if you're looking to improve recall.\n",
        "\n",
        "Custom Perceptron has both the lowest accuracy and highest variability, implying it may need further tuning or improvements in design for better reliability and performance.\n",
        "\n",
        "In general, the Naive Bayes model is the most reliable and effective choice for this dataset."
      ],
      "metadata": {
        "id": "Ndno15QGKAc6"
      }
    },
    {
      "cell_type": "markdown",
      "source": [
        "#Using Pickle to save the models"
      ],
      "metadata": {
        "id": "WSghYN1NCxxz"
      }
    },
    {
      "cell_type": "code",
      "source": [
        "with open('naive_bayes_model.pkl', 'wb') as naive_bayes_file:\n",
        "    pickle.dump(naive_bayes_model, naive_bayes_file)\n",
        "\n",
        "with open('perceptron_model.pkl', 'wb') as perceptron_file_library:\n",
        "    pickle.dump(perceptron_model, perceptron_file_library)\n",
        "\n",
        "with open('custom_perceptron_model.pkl', 'wb') as perceptron_file_custom:\n",
        "    pickle.dump(custom_perceptron_model, perceptron_file_custom)"
      ],
      "metadata": {
        "id": "jNmPd8SkC0mW"
      },
      "execution_count": 34,
      "outputs": []
    }
  ]
}